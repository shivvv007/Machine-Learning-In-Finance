{
 "cells": [
  {
   "cell_type": "code",
   "execution_count": 21,
   "id": "728a640d-6884-43ec-ba47-d6d03471d270",
   "metadata": {},
   "outputs": [],
   "source": [
    "import numpy as np"
   ]
  },
  {
   "cell_type": "code",
   "execution_count": 23,
   "id": "953a9374-3641-458e-ae7d-7300cc449ed2",
   "metadata": {},
   "outputs": [],
   "source": [
    "#my student id=2338212\n",
    "n_elements = 12"
   ]
  },
  {
   "cell_type": "code",
   "execution_count": 25,
   "id": "76250041-1936-4b4f-9b7b-5038898822d3",
   "metadata": {},
   "outputs": [],
   "source": [
    "a = np.arange(n_elements)"
   ]
  },
  {
   "cell_type": "code",
   "execution_count": 27,
   "id": "edf7d687-f52c-4918-96b9-ebad2026b457",
   "metadata": {},
   "outputs": [
    {
     "name": "stdout",
     "output_type": "stream",
     "text": [
      "Vector a: [ 0  1  2  3  4  5  6  7  8  9 10 11]\n"
     ]
    }
   ],
   "source": [
    "print(\"Vector a:\", a)"
   ]
  },
  {
   "cell_type": "code",
   "execution_count": 29,
   "id": "10dd259f-e97d-48b0-a5ee-340b4abe648c",
   "metadata": {},
   "outputs": [],
   "source": [
    "a_2d = a.reshape(1, -1)"
   ]
  },
  {
   "cell_type": "code",
   "execution_count": 31,
   "id": "841b151b-12fb-4b45-a576-0a041f6f5d96",
   "metadata": {},
   "outputs": [
    {
     "name": "stdout",
     "output_type": "stream",
     "text": [
      "2D array with 1 row: [[ 0  1  2  3  4  5  6  7  8  9 10 11]]\n"
     ]
    }
   ],
   "source": [
    "print(\"2D array with 1 row:\", a_2d)"
   ]
  },
  {
   "cell_type": "code",
   "execution_count": 33,
   "id": "c1188a17-6b0c-4346-b3de-6ac3d14dc7e6",
   "metadata": {},
   "outputs": [],
   "source": [
    "b = a_2d.copy()"
   ]
  },
  {
   "cell_type": "code",
   "execution_count": 35,
   "id": "6ae7cc27-aab8-4de6-a876-4577c0561c72",
   "metadata": {},
   "outputs": [
    {
     "name": "stdout",
     "output_type": "stream",
     "text": [
      "Copy of a_2d [[ 0  1  2  3  4  5  6  7  8  9 10 11]]\n"
     ]
    }
   ],
   "source": [
    "print(\"Copy of a_2d\", b)"
   ]
  },
  {
   "cell_type": "code",
   "execution_count": 37,
   "id": "283214e1-e11a-4643-81ec-6583f500c675",
   "metadata": {},
   "outputs": [
    {
     "name": "stdout",
     "output_type": "stream",
     "text": [
      "Shape of b: (1, 12)\n"
     ]
    }
   ],
   "source": [
    "print(\"Shape of b:\", b.shape)"
   ]
  },
  {
   "cell_type": "code",
   "execution_count": null,
   "id": "ef2de5bf-652f-49ae-a48d-73708b5a0d4f",
   "metadata": {},
   "outputs": [],
   "source": []
  }
 ],
 "metadata": {
  "kernelspec": {
   "display_name": "Python 3 (ipykernel)",
   "language": "python",
   "name": "python3"
  },
  "language_info": {
   "codemirror_mode": {
    "name": "ipython",
    "version": 3
   },
   "file_extension": ".py",
   "mimetype": "text/x-python",
   "name": "python",
   "nbconvert_exporter": "python",
   "pygments_lexer": "ipython3",
   "version": "3.12.4"
  }
 },
 "nbformat": 4,
 "nbformat_minor": 5
}
