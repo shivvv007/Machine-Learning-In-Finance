{
 "cells": [
  {
   "cell_type": "code",
   "execution_count": 3,
   "id": "8dd5ab9d-ee85-43e3-9e4a-ce2e9a93462c",
   "metadata": {},
   "outputs": [],
   "source": [
    "import pandas as pd"
   ]
  },
  {
   "cell_type": "code",
   "execution_count": null,
   "id": "29a3610a-6910-4db5-9258-d5a8d4825a02",
   "metadata": {},
   "outputs": [],
   "source": [
    "#My SID: 2338212\n",
    "#so n=2"
   ]
  },
  {
   "cell_type": "code",
   "execution_count": 5,
   "id": "dad5aa1b-a056-4350-9b52-ea00d0f0437f",
   "metadata": {},
   "outputs": [],
   "source": [
    "data = {\n",
    "    'relationship': ['Husband', 'Wife', 'Husband', 'Not-in-family', 'Own-child', 'Unmarried'],\n",
    "    'hours-per-week': [40, 20, 50, 30, 15, 45]\n",
    "}"
   ]
  },
  {
   "cell_type": "code",
   "execution_count": 7,
   "id": "9255eeac-39ba-498a-89b5-bfd45c7bb513",
   "metadata": {},
   "outputs": [
    {
     "name": "stdout",
     "output_type": "stream",
     "text": [
      "Original DataFrame:\n",
      "    relationship  hours-per-week\n",
      "0        Husband              40\n",
      "1           Wife              20\n",
      "2        Husband              50\n",
      "3  Not-in-family              30\n",
      "4      Own-child              15\n",
      "5      Unmarried              45\n"
     ]
    }
   ],
   "source": [
    "df = pd.DataFrame(data)\n",
    "print(\"Original DataFrame:\")\n",
    "print(df)"
   ]
  },
  {
   "cell_type": "code",
   "execution_count": 9,
   "id": "37000a34-f89b-4921-9238-e68b55f322b7",
   "metadata": {},
   "outputs": [],
   "source": [
    "n = 2"
   ]
  },
  {
   "cell_type": "code",
   "execution_count": 11,
   "id": "d4b12f43-246d-4668-98f2-78de4482dc46",
   "metadata": {},
   "outputs": [
    {
     "name": "stdout",
     "output_type": "stream",
     "text": [
      "\n",
      "Grouped by 'relationship' and 'hours-per-week':\n",
      "    relationship  hours-per-week  count\n",
      "0        Husband              40      1\n",
      "1        Husband              50      1\n",
      "2  Not-in-family              30      1\n",
      "3      Own-child              15      1\n",
      "4      Unmarried              45      1\n",
      "5           Wife              20      1\n"
     ]
    }
   ],
   "source": [
    "grouped_original = df.groupby(['relationship', 'hours-per-week']).size().reset_index(name='count')\n",
    "print(\"\\nGrouped by 'relationship' and 'hours-per-week':\")\n",
    "print(grouped_original)"
   ]
  },
  {
   "cell_type": "code",
   "execution_count": 13,
   "id": "5ec83f30-62f8-4667-89bd-f15b49f0be80",
   "metadata": {},
   "outputs": [],
   "source": [
    "def reduce_hours(row):\n",
    "    return row - n"
   ]
  },
  {
   "cell_type": "code",
   "execution_count": 15,
   "id": "44579597-f90a-4d1e-ac7c-7bb9195053b7",
   "metadata": {},
   "outputs": [],
   "source": [
    "df['reduced-hours-per-week'] = df['hours-per-week'].apply(reduce_hours)"
   ]
  },
  {
   "cell_type": "code",
   "execution_count": 17,
   "id": "0026b1d7-2249-42a9-923f-536e473611bd",
   "metadata": {},
   "outputs": [],
   "source": [
    "grouped_reduced = df.groupby(['relationship', 'reduced-hours-per-week']).size().reset_index(name='count')\n",
    "\n"
   ]
  },
  {
   "cell_type": "code",
   "execution_count": 19,
   "id": "0fb2f221-ff86-41b5-9d70-b63b7faf64fb",
   "metadata": {},
   "outputs": [
    {
     "name": "stdout",
     "output_type": "stream",
     "text": [
      "\n",
      "Grouped by 'relationship' and 'reduced-hours-per-week':\n"
     ]
    }
   ],
   "source": [
    "print(\"\\nGrouped by 'relationship' and 'reduced-hours-per-week':\")\n"
   ]
  },
  {
   "cell_type": "code",
   "execution_count": 21,
   "id": "4997b10a-6225-469c-8f06-bc38c86d76c4",
   "metadata": {},
   "outputs": [
    {
     "name": "stdout",
     "output_type": "stream",
     "text": [
      "    relationship  reduced-hours-per-week  count\n",
      "0        Husband                      38      1\n",
      "1        Husband                      48      1\n",
      "2  Not-in-family                      28      1\n",
      "3      Own-child                      13      1\n",
      "4      Unmarried                      43      1\n",
      "5           Wife                      18      1\n"
     ]
    }
   ],
   "source": [
    "print(grouped_reduced)"
   ]
  }
 ],
 "metadata": {
  "kernelspec": {
   "display_name": "Python 3 (ipykernel)",
   "language": "python",
   "name": "python3"
  },
  "language_info": {
   "codemirror_mode": {
    "name": "ipython",
    "version": 3
   },
   "file_extension": ".py",
   "mimetype": "text/x-python",
   "name": "python",
   "nbconvert_exporter": "python",
   "pygments_lexer": "ipython3",
   "version": "3.12.4"
  }
 },
 "nbformat": 4,
 "nbformat_minor": 5
}
