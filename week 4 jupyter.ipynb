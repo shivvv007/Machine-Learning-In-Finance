{
 "cells": [
  {
   "cell_type": "code",
   "execution_count": 2,
   "id": "653b25a0-2da3-4792-82c1-31430ac50283",
   "metadata": {},
   "outputs": [],
   "source": [
    "import numpy as np\n",
    "import pandas as pd"
   ]
  },
  {
   "cell_type": "code",
   "execution_count": 4,
   "id": "179ff096-00bb-4376-9408-f7d3093eb52f",
   "metadata": {},
   "outputs": [],
   "source": [
    "import tensorflow as tf\n",
    "from sklearn.model_selection import train_test_split\n",
    "from sklearn.metrics import mean_absolute_error\n",
    "from tensorflow import keras\n",
    "from tensorflow.keras import layers\n",
    "from tensorflow.keras.models import Sequential\n",
    "from tensorflow.keras.layers import Dense, Input"
   ]
  },
  {
   "cell_type": "code",
   "execution_count": 5,
   "id": "b6d42f7f-dba7-4b44-810d-6eaa9af37fe7",
   "metadata": {},
   "outputs": [],
   "source": [
    "data=pd.read_csv('data_stocks.csv')\n"
   ]
  },
  {
   "cell_type": "code",
   "execution_count": 6,
   "id": "67414c18-81fc-4b75-9336-53aab1b66e70",
   "metadata": {},
   "outputs": [],
   "source": [
    "X = data.iloc[:, :-1].values\n",
    "y = data.iloc[:, -1].values"
   ]
  },
  {
   "cell_type": "code",
   "execution_count": 7,
   "id": "429ed582-5038-4dbc-883f-1508912ebe73",
   "metadata": {},
   "outputs": [],
   "source": [
    "X_train, X_test, y_train, y_test = train_test_split(X, y, test_size=0.2, random_state=42)\n"
   ]
  },
  {
   "cell_type": "code",
   "execution_count": 18,
   "id": "8312cda4-aac0-4527-9fed-ec3388ea6d19",
   "metadata": {},
   "outputs": [],
   "source": [
    "#sSID = 2338212\n",
    "#LAST 3 DIG=212\n",
    "#HALF=106\n",
    "\n",
    "l1 = 212\n",
    "l2 = 106"
   ]
  },
  {
   "cell_type": "code",
   "execution_count": 20,
   "id": "da4e8575-37f9-4799-b047-872ea02e4c4b",
   "metadata": {},
   "outputs": [],
   "source": [
    "model = Sequential()\n",
    "model.add(Input(shape=(X_train.shape[1],)))\n",
    "model.add(Dense(l1, activation='relu'))\n",
    "model.add(Dense(l2, activation='relu'))\n",
    "model.add(Dense(1))"
   ]
  },
  {
   "cell_type": "code",
   "execution_count": 24,
   "id": "2306c4cb-6e71-4616-a426-74c137f40bd6",
   "metadata": {},
   "outputs": [],
   "source": [
    "model.compile(optimizer='adam', loss='mse', metrics=['mae'])"
   ]
  },
  {
   "cell_type": "code",
   "execution_count": 26,
   "id": "ea856160-1036-479b-9e65-59a40fefca3d",
   "metadata": {},
   "outputs": [
    {
     "name": "stdout",
     "output_type": "stream",
     "text": [
      "Epoch 1/10\n",
      "\u001b[1m2641/2641\u001b[0m \u001b[32m━━━━━━━━━━━━━━━━━━━━\u001b[0m\u001b[37m\u001b[0m \u001b[1m8s\u001b[0m 3ms/step - loss: 41603569811456.0000 - mae: 1428518.6250 - val_loss: 1640884.5000 - val_mae: 1280.8541\n",
      "Epoch 2/10\n",
      "\u001b[1m2641/2641\u001b[0m \u001b[32m━━━━━━━━━━━━━━━━━━━━\u001b[0m\u001b[37m\u001b[0m \u001b[1m6s\u001b[0m 2ms/step - loss: 875643469824.0000 - mae: 274673.2500 - val_loss: 64241.4766 - val_mae: 252.4898\n",
      "Epoch 3/10\n",
      "\u001b[1m2641/2641\u001b[0m \u001b[32m━━━━━━━━━━━━━━━━━━━━\u001b[0m\u001b[37m\u001b[0m \u001b[1m6s\u001b[0m 2ms/step - loss: 471922212864.0000 - mae: 226265.9531 - val_loss: 525930848.0000 - val_mae: 22933.1387\n",
      "Epoch 4/10\n",
      "\u001b[1m2641/2641\u001b[0m \u001b[32m━━━━━━━━━━━━━━━━━━━━\u001b[0m\u001b[37m\u001b[0m \u001b[1m6s\u001b[0m 2ms/step - loss: 61989605376.0000 - mae: 29481.4551 - val_loss: 35.1793 - val_mae: 4.7421\n",
      "Epoch 5/10\n",
      "\u001b[1m2641/2641\u001b[0m \u001b[32m━━━━━━━━━━━━━━━━━━━━\u001b[0m\u001b[37m\u001b[0m \u001b[1m6s\u001b[0m 2ms/step - loss: 28785211392.0000 - mae: 29038.7754 - val_loss: 3686646677504.0000 - val_mae: 1920058.2500\n",
      "Epoch 6/10\n",
      "\u001b[1m2641/2641\u001b[0m \u001b[32m━━━━━━━━━━━━━━━━━━━━\u001b[0m\u001b[37m\u001b[0m \u001b[1m6s\u001b[0m 2ms/step - loss: 88146403328.0000 - mae: 79193.1250 - val_loss: 3225444.0000 - val_mae: 1795.9397\n",
      "Epoch 7/10\n",
      "\u001b[1m2641/2641\u001b[0m \u001b[32m━━━━━━━━━━━━━━━━━━━━\u001b[0m\u001b[37m\u001b[0m \u001b[1m6s\u001b[0m 2ms/step - loss: 78643593216.0000 - mae: 94046.6797 - val_loss: 686443.4375 - val_mae: 828.4991\n",
      "Epoch 8/10\n",
      "\u001b[1m2641/2641\u001b[0m \u001b[32m━━━━━━━━━━━━━━━━━━━━\u001b[0m\u001b[37m\u001b[0m \u001b[1m6s\u001b[0m 2ms/step - loss: 40248020992.0000 - mae: 21480.8770 - val_loss: 108.0539 - val_mae: 8.2216\n",
      "Epoch 9/10\n",
      "\u001b[1m2641/2641\u001b[0m \u001b[32m━━━━━━━━━━━━━━━━━━━━\u001b[0m\u001b[37m\u001b[0m \u001b[1m7s\u001b[0m 2ms/step - loss: 3323802880.0000 - mae: 12403.0273 - val_loss: 44274.3047 - val_mae: 210.2661\n",
      "Epoch 10/10\n",
      "\u001b[1m2641/2641\u001b[0m \u001b[32m━━━━━━━━━━━━━━━━━━━━\u001b[0m\u001b[37m\u001b[0m \u001b[1m6s\u001b[0m 2ms/step - loss: 20922316800.0000 - mae: 26910.4160 - val_loss: 16.3537 - val_mae: 3.0192\n"
     ]
    }
   ],
   "source": [
    "history = model.fit(X_train, y_train, batch_size=10, epochs=10, validation_split=0.2, verbose=1)"
   ]
  },
  {
   "cell_type": "code",
   "execution_count": 28,
   "id": "80527efc-b68d-4040-a4da-8efe28620e82",
   "metadata": {},
   "outputs": [
    {
     "name": "stdout",
     "output_type": "stream",
     "text": [
      "Mean absolute error : 3.08124\n",
      "Mean squared error : 16.98872\n"
     ]
    }
   ],
   "source": [
    "mse, mae=model.evaluate(X_test, y_test, verbose=0)\n",
    "print(\"Mean absolute error : %.5f\" %mae)\n",
    "print(\"Mean squared error : %.5f\" %mse)"
   ]
  },
  {
   "cell_type": "code",
   "execution_count": 32,
   "id": "a5d499af-5701-4546-b9bb-1531ee9526d4",
   "metadata": {},
   "outputs": [
    {
     "name": "stdout",
     "output_type": "stream",
     "text": [
      "practical MAE:0.02944\n",
      "Current MAE:3.081237554550171\n"
     ]
    }
   ],
   "source": [
    "_mae=0.02944\n",
    "print(f' Tutorial MAE:{practical_mae}')\n",
    "print(f'Current MAE:{mae}')"
   ]
  },
  {
   "cell_type": "code",
   "execution_count": null,
   "id": "1abafb8c-8525-46eb-9ff6-58e17725031a",
   "metadata": {},
   "outputs": [],
   "source": []
  }
 ],
 "metadata": {
  "kernelspec": {
   "display_name": "Python 3 (ipykernel)",
   "language": "python",
   "name": "python3"
  },
  "language_info": {
   "codemirror_mode": {
    "name": "ipython",
    "version": 3
   },
   "file_extension": ".py",
   "mimetype": "text/x-python",
   "name": "python",
   "nbconvert_exporter": "python",
   "pygments_lexer": "ipython3",
   "version": "3.12.4"
  }
 },
 "nbformat": 4,
 "nbformat_minor": 5
}
